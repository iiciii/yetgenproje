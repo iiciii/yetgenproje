{
 "cells": [
  {
   "cell_type": "code",
   "execution_count": 7,
   "metadata": {},
   "outputs": [
    {
     "name": "stdout",
     "output_type": "stream",
     "text": [
      "genel:\n"
     ]
    },
    {
     "ename": "ValueError",
     "evalue": "Lütfen belirtilen sayıda kart çekiniz!!",
     "output_type": "error",
     "traceback": [
      "\u001b[1;31m---------------------------------------------------------------------------\u001b[0m",
      "\u001b[1;31mValueError\u001b[0m                                Traceback (most recent call last)",
      "Cell \u001b[1;32mIn[7], line 27\u001b[0m\n\u001b[0;32m     25\u001b[0m     \u001b[38;5;28mprint\u001b[39m(\u001b[38;5;124m\"\u001b[39m\u001b[38;5;124mwow\u001b[39m\u001b[38;5;124m\"\u001b[39m)\n\u001b[0;32m     26\u001b[0m \u001b[38;5;28;01melse\u001b[39;00m:\n\u001b[1;32m---> 27\u001b[0m     \u001b[38;5;28;01mraise\u001b[39;00m \u001b[38;5;167;01mValueError\u001b[39;00m(\u001b[38;5;124m\"\u001b[39m\u001b[38;5;124mLütfen belirtilen sayıda kart çekiniz!!\u001b[39m\u001b[38;5;124m\"\u001b[39m)\n\u001b[0;32m     28\u001b[0m \u001b[38;5;28;01mtry\u001b[39;00m:\n\u001b[0;32m     29\u001b[0m     kartSayisi \u001b[38;5;241m=\u001b[39m \u001b[38;5;124m\"\u001b[39m\u001b[38;5;124m7\u001b[39m\u001b[38;5;124m\"\u001b[39m\n",
      "\u001b[1;31mValueError\u001b[0m: Lütfen belirtilen sayıda kart çekiniz!!"
     ]
    }
   ],
   "source": [
    "kategori = input(\"Fal konusu seçiniz(GENEL/AŞK/KARİYER)\")\n",
    "kartSayisi = input(\"Çekilecek kart sayısını giriniz(sayı ile):\")       #TRY-EXCEPT BLOĞU\n",
    "\n",
    "class yanlısDeğerHata(Exception):\n",
    "    pass\n",
    "if kategori.upper() == \"GENEL\":\n",
    "    print(\"genel:\")\n",
    "elif kategori.upper() == \"AŞK\":\n",
    "    print(\"aşk:\")\n",
    "elif kategori.upper() == \"KARİYER\":\n",
    "    print(\"genel:\")\n",
    "else:\n",
    "    raise yanlısDeğerHata(\"lütfen belirtilen kategorilerden birini seçin!\")\n",
    "                \n",
    "try:\n",
    "    kategori = \"herhangi bir şey\"\n",
    "except yanlısDeğerHata as hata:\n",
    "    print(hata)\n",
    "\n",
    "if kartSayisi == \"1\":\n",
    "    print(\"wow\")\n",
    "elif kartSayisi == \"3\":\n",
    "    print(\"wow\")\n",
    "elif kartSayisi == \"6\":\n",
    "    print(\"wow\")\n",
    "else:\n",
    "    raise ValueError(\"Lütfen belirtilen sayıda kart çekiniz!!\")\n",
    "try:\n",
    "    kartSayisi = \"7\"\n",
    "except ValueError as error:\n",
    "    print(error)\n",
    "                "
   ]
  },
  {
   "cell_type": "code",
   "execution_count": 3,
   "metadata": {},
   "outputs": [
    {
     "name": "stdout",
     "output_type": "stream",
     "text": [
      "Bir soru düşün ve kartın dediklerine güven!\n",
      "Karıştırılıyor ve senin için bir kart çekiliyor...\n",
      "kart :  \n",
      " kart durumu: \n"
     ]
    }
   ],
   "source": [
    "import pandas as pd\n",
    "import numpy as np\n",
    "import time \n",
    "import random \n",
    "\n",
    "kategori = input(\"Fal konusu seçiniz(GENEL/AŞK/KARİYER)\")\n",
    "kartSayisi = input(\"Çekilecek kart sayısını giriniz(sayı ile):\")\n",
    "\n",
    "try:\n",
    "    kartDurum = 'TERS'\n",
    "    print(\"Bir soru düşün ve kartın dediklerine güven!\")\n",
    "    print(\"Karıştırılıyor ve senin için bir kart çekiliyor...\")\n",
    "    time.sleep(3)\n",
    "    print(\"kart :  \\n kart durumu: \")\n",
    "\n",
    "    if kartDurum == \"TERS\":\n",
    "        if kategori.upper() == \"GENEL\":\n",
    "                    print(\"genel\")\n",
    "        elif kategori.upper() == \"AŞK\":\n",
    "                    print(\"aşk:\")\n",
    "        elif kategori.upper() == \"KARİYER\":\n",
    "                    print(\"kariyer: {self.df[(self.df['KARTIN ADI'] == kartAdı) & (self.df['DURUM'] == 'TERS')]['KARİYER'].values[0]}\")\n",
    "    else:\n",
    "        if kategori.upper() == \"GENEL\":\n",
    "                    print(\"genel: {self.df[(self.df['KARTIN ADI'] == kartAdı) & (self.df['DURUM'] == 'DÜZ')]['GENEL'].values[0]}\")\n",
    "        elif kategori.upper() == \"AŞK\":\n",
    "                    print(\"aşk: {self.df[(self.df['KARTIN ADI'] == kartAdı) & (self.df['DURUM'] == 'DÜZ')]['AŞK'].values[0]}\")\n",
    "        elif kategori.upper() == \"KARİYER\":\n",
    "                    print(\"kariyer: {self.df[(self.df['KARTIN ADI'] == kartAdı) & (self.df['DURUM'] == 'DÜZ')]['KARİYER'].values[0]}\")\n",
    "except IndexError:\n",
    "        print(\"Hata: Geçersiz kart adı veya durum.\")\n",
    "except KeyError:\n",
    "        print(\"Hata: Geçersiz kategori.\")\n",
    "except Exception as e:\n",
    "            print(f\"Bilinmeyen bir hata oluştu: {e}\")"
   ]
  }
 ],
 "metadata": {
  "kernelspec": {
   "display_name": "Python 3",
   "language": "python",
   "name": "python3"
  },
  "language_info": {
   "codemirror_mode": {
    "name": "ipython",
    "version": 3
   },
   "file_extension": ".py",
   "mimetype": "text/x-python",
   "name": "python",
   "nbconvert_exporter": "python",
   "pygments_lexer": "ipython3",
   "version": "3.11.9"
  }
 },
 "nbformat": 4,
 "nbformat_minor": 2
}
